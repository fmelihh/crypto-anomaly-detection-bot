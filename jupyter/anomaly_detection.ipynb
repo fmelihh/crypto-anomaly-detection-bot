{
 "cells": [
  {
   "cell_type": "code",
   "execution_count": 9,
   "metadata": {
    "collapsed": true
   },
   "outputs": [],
   "source": [
    "import zipfile\n",
    "import pandas as pd"
   ]
  },
  {
   "cell_type": "code",
   "execution_count": 10,
   "outputs": [],
   "source": [
    "df = pd.DataFrame()\n",
    "\n",
    "with zipfile.ZipFile(\"archive.zip\") as zip:\n",
    "    for file in zip.filelist:\n",
    "        with zip.open(file.filename) as f:\n",
    "            df = pd.concat([df, pd.read_csv(f)])\n"
   ],
   "metadata": {
    "collapsed": false
   }
  },
  {
   "cell_type": "code",
   "execution_count": 11,
   "outputs": [
    {
     "data": {
      "text/plain": "       SNo  Name Symbol                 Date       High        Low       Open  \\\n0        1  Aave   AAVE  2020-10-05 23:59:59  55.112358  49.787900  52.675035   \n1        2  Aave   AAVE  2020-10-06 23:59:59  53.402270  40.734578  53.291969   \n2        3  Aave   AAVE  2020-10-07 23:59:59  42.408314  35.970690  42.399947   \n3        4  Aave   AAVE  2020-10-08 23:59:59  44.902511  36.696057  39.885262   \n4        5  Aave   AAVE  2020-10-09 23:59:59  47.569533  43.291776  43.764463   \n...    ...   ...    ...                  ...        ...        ...        ...   \n2888  2889   XRP    XRP  2021-07-02 23:59:59   0.667287   0.634726   0.659890   \n2889  2890   XRP    XRP  2021-07-03 23:59:59   0.683677   0.644653   0.655639   \n2890  2891   XRP    XRP  2021-07-04 23:59:59   0.707783   0.665802   0.673218   \n2891  2892   XRP    XRP  2021-07-05 23:59:59   0.695653   0.648492   0.695653   \n2892  2893   XRP    XRP  2021-07-06 23:59:59   0.679923   0.652676   0.653055   \n\n          Close        Volume     Marketcap  \n0     53.219243  0.000000e+00  8.912813e+07  \n1     42.401599  5.830915e+05  7.101144e+07  \n2     40.083976  6.828342e+05  6.713004e+07  \n3     43.764463  1.658817e+06  2.202651e+08  \n4     46.817744  8.155377e+05  2.356322e+08  \n...         ...           ...           ...  \n2888   0.656763  2.061607e+09  3.030759e+10  \n2889   0.672888  1.872820e+09  3.105172e+10  \n2890   0.694945  1.885242e+09  3.206960e+10  \n2891   0.654300  2.076373e+09  3.019395e+10  \n2892   0.665402  1.938959e+09  3.072284e+10  \n\n[37082 rows x 10 columns]",
      "text/html": "<div>\n<style scoped>\n    .dataframe tbody tr th:only-of-type {\n        vertical-align: middle;\n    }\n\n    .dataframe tbody tr th {\n        vertical-align: top;\n    }\n\n    .dataframe thead th {\n        text-align: right;\n    }\n</style>\n<table border=\"1\" class=\"dataframe\">\n  <thead>\n    <tr style=\"text-align: right;\">\n      <th></th>\n      <th>SNo</th>\n      <th>Name</th>\n      <th>Symbol</th>\n      <th>Date</th>\n      <th>High</th>\n      <th>Low</th>\n      <th>Open</th>\n      <th>Close</th>\n      <th>Volume</th>\n      <th>Marketcap</th>\n    </tr>\n  </thead>\n  <tbody>\n    <tr>\n      <th>0</th>\n      <td>1</td>\n      <td>Aave</td>\n      <td>AAVE</td>\n      <td>2020-10-05 23:59:59</td>\n      <td>55.112358</td>\n      <td>49.787900</td>\n      <td>52.675035</td>\n      <td>53.219243</td>\n      <td>0.000000e+00</td>\n      <td>8.912813e+07</td>\n    </tr>\n    <tr>\n      <th>1</th>\n      <td>2</td>\n      <td>Aave</td>\n      <td>AAVE</td>\n      <td>2020-10-06 23:59:59</td>\n      <td>53.402270</td>\n      <td>40.734578</td>\n      <td>53.291969</td>\n      <td>42.401599</td>\n      <td>5.830915e+05</td>\n      <td>7.101144e+07</td>\n    </tr>\n    <tr>\n      <th>2</th>\n      <td>3</td>\n      <td>Aave</td>\n      <td>AAVE</td>\n      <td>2020-10-07 23:59:59</td>\n      <td>42.408314</td>\n      <td>35.970690</td>\n      <td>42.399947</td>\n      <td>40.083976</td>\n      <td>6.828342e+05</td>\n      <td>6.713004e+07</td>\n    </tr>\n    <tr>\n      <th>3</th>\n      <td>4</td>\n      <td>Aave</td>\n      <td>AAVE</td>\n      <td>2020-10-08 23:59:59</td>\n      <td>44.902511</td>\n      <td>36.696057</td>\n      <td>39.885262</td>\n      <td>43.764463</td>\n      <td>1.658817e+06</td>\n      <td>2.202651e+08</td>\n    </tr>\n    <tr>\n      <th>4</th>\n      <td>5</td>\n      <td>Aave</td>\n      <td>AAVE</td>\n      <td>2020-10-09 23:59:59</td>\n      <td>47.569533</td>\n      <td>43.291776</td>\n      <td>43.764463</td>\n      <td>46.817744</td>\n      <td>8.155377e+05</td>\n      <td>2.356322e+08</td>\n    </tr>\n    <tr>\n      <th>...</th>\n      <td>...</td>\n      <td>...</td>\n      <td>...</td>\n      <td>...</td>\n      <td>...</td>\n      <td>...</td>\n      <td>...</td>\n      <td>...</td>\n      <td>...</td>\n      <td>...</td>\n    </tr>\n    <tr>\n      <th>2888</th>\n      <td>2889</td>\n      <td>XRP</td>\n      <td>XRP</td>\n      <td>2021-07-02 23:59:59</td>\n      <td>0.667287</td>\n      <td>0.634726</td>\n      <td>0.659890</td>\n      <td>0.656763</td>\n      <td>2.061607e+09</td>\n      <td>3.030759e+10</td>\n    </tr>\n    <tr>\n      <th>2889</th>\n      <td>2890</td>\n      <td>XRP</td>\n      <td>XRP</td>\n      <td>2021-07-03 23:59:59</td>\n      <td>0.683677</td>\n      <td>0.644653</td>\n      <td>0.655639</td>\n      <td>0.672888</td>\n      <td>1.872820e+09</td>\n      <td>3.105172e+10</td>\n    </tr>\n    <tr>\n      <th>2890</th>\n      <td>2891</td>\n      <td>XRP</td>\n      <td>XRP</td>\n      <td>2021-07-04 23:59:59</td>\n      <td>0.707783</td>\n      <td>0.665802</td>\n      <td>0.673218</td>\n      <td>0.694945</td>\n      <td>1.885242e+09</td>\n      <td>3.206960e+10</td>\n    </tr>\n    <tr>\n      <th>2891</th>\n      <td>2892</td>\n      <td>XRP</td>\n      <td>XRP</td>\n      <td>2021-07-05 23:59:59</td>\n      <td>0.695653</td>\n      <td>0.648492</td>\n      <td>0.695653</td>\n      <td>0.654300</td>\n      <td>2.076373e+09</td>\n      <td>3.019395e+10</td>\n    </tr>\n    <tr>\n      <th>2892</th>\n      <td>2893</td>\n      <td>XRP</td>\n      <td>XRP</td>\n      <td>2021-07-06 23:59:59</td>\n      <td>0.679923</td>\n      <td>0.652676</td>\n      <td>0.653055</td>\n      <td>0.665402</td>\n      <td>1.938959e+09</td>\n      <td>3.072284e+10</td>\n    </tr>\n  </tbody>\n</table>\n<p>37082 rows × 10 columns</p>\n</div>"
     },
     "execution_count": 11,
     "metadata": {},
     "output_type": "execute_result"
    }
   ],
   "source": [
    "df"
   ],
   "metadata": {
    "collapsed": false
   }
  },
  {
   "cell_type": "code",
   "execution_count": null,
   "outputs": [],
   "source": [],
   "metadata": {
    "collapsed": false
   }
  }
 ],
 "metadata": {
  "kernelspec": {
   "display_name": "Python 3",
   "language": "python",
   "name": "python3"
  },
  "language_info": {
   "codemirror_mode": {
    "name": "ipython",
    "version": 2
   },
   "file_extension": ".py",
   "mimetype": "text/x-python",
   "name": "python",
   "nbconvert_exporter": "python",
   "pygments_lexer": "ipython2",
   "version": "2.7.6"
  }
 },
 "nbformat": 4,
 "nbformat_minor": 0
}
